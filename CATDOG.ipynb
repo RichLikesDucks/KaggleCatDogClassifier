{
 "cells": [
  {
   "cell_type": "code",
   "execution_count": 39,
   "metadata": {
    "collapsed": false
   },
   "outputs": [],
   "source": [
    "from keras import layers\n",
    "from keras.layers import Input, Add, Dense, Activation, ZeroPadding2D, BatchNormalization, Flatten, Conv2D, AveragePooling2D, MaxPooling2D, GlobalMaxPooling2D\n",
    "from keras.models import Model, load_model, Sequential\n",
    "from keras import regularizers\n",
    "from keras.regularizers import l2\n",
    "\n",
    "\n",
    "from matplotlib.pyplot import imshow\n",
    "%matplotlib inline\n",
    "\n",
    "import numpy as np\n",
    "import random\n",
    "import scipy.misc\n",
    "from scipy import ndimage\n",
    "import pydot\n",
    "import cv2 as cv\n",
    "\n"
   ]
  },
  {
   "cell_type": "code",
   "execution_count": 63,
   "metadata": {
    "collapsed": false
   },
   "outputs": [
    {
     "name": "stdout",
     "output_type": "stream",
     "text": [
      "0\n",
      "1000\n",
      "2000\n",
      "3000\n",
      "4000\n",
      "5000\n",
      "6000\n",
      "7000\n",
      "8000\n",
      "9000\n",
      "10000\n",
      "11000\n",
      "12000\n",
      "0\n",
      "1000\n",
      "2000\n",
      "3000\n",
      "4000\n",
      "5000\n",
      "6000\n",
      "7000\n",
      "8000\n",
      "9000\n",
      "10000\n",
      "11000\n",
      "12000\n"
     ]
    }
   ],
   "source": [
    "photos = 12500\n",
    "height = 128\n",
    "width = 128\n",
    "# upload each individual photo into separate list\n",
    "cat = []\n",
    "dog = []\n",
    "\n",
    "for i in range(0,photos):\n",
    "\n",
    "    img = cv.imread('train/cat.' + str(i) + '.jpg')\n",
    "    img = cv.resize(img, (height, width))\n",
    "    image_data = cv.normalize(img, img, 0, 255, cv.NORM_MINMAX)\n",
    "\n",
    "\n",
    "    cat.append(image_data)\n",
    "    \n",
    "    if i % 1000 == 0:\n",
    "        print i\n",
    "    \n",
    "for j in range(0,photos):\n",
    "\n",
    "    img = cv.imread('train/dog.' + str(j) + '.jpg')\n",
    "    img = cv.resize(img, (height, width))\n",
    "    image_data = cv.normalize(img, img, 0, 255, cv.NORM_MINMAX)\n",
    "    \n",
    "    \n",
    "    dog.append(image_data)\n",
    "    if j % 1000 == 0:\n",
    "        print j\n",
    "    \n",
    "    \n",
    "#make each list an array\n",
    "\n",
    "\n",
    "data_cat = np.asarray(cat)\n",
    "data_dog = np.asarray(dog)\n",
    "\n",
    "\n",
    "#put those arrays together for an input vector\n",
    "X_train = np.concatenate((data_cat, data_dog))\n",
    "\n",
    "#create output vectors\n",
    "y_train_cats = np.zeros((photos,1))\n",
    "y_train_dogs = np.ones((photos,1))\n",
    "Y_train = np.concatenate((y_train_cats, y_train_dogs))"
   ]
  },
  {
   "cell_type": "code",
   "execution_count": 64,
   "metadata": {
    "collapsed": false
   },
   "outputs": [],
   "source": [
    "from sklearn.model_selection import train_test_split\n",
    "X_train, X_test, y_train, y_test = train_test_split(X_train, Y_train, test_size=0.04, random_state=1)"
   ]
  },
  {
   "cell_type": "code",
   "execution_count": 73,
   "metadata": {
    "collapsed": true
   },
   "outputs": [],
   "source": [
    "def CatDogModel(input_shape=None, weight_decay=0.001, batch_momentum=0.9, batch_shape=None, classes=2):\n",
    "    \n",
    "    X_input = Input(input_shape)\n",
    "    \n",
    "    # Block 1\n",
    "    x = Conv2D(16, (3, 3), activation='relu', padding='same', name='block1_conv1', kernel_regularizer=l2(weight_decay))(X_input)\n",
    "    x = Conv2D(16, (3, 3), activation='relu', padding='same', name='block1_conv2', kernel_regularizer=l2(weight_decay))(x)\n",
    "    x = MaxPooling2D((2, 2), strides=(2, 2), name='block1_pool')(x)\n",
    "\n",
    "    # Block 2\n",
    "    x = Conv2D(32, (3, 3), activation='relu', padding='same', name='block2_conv1', kernel_regularizer=l2(weight_decay))(x)\n",
    "    x = Conv2D(32, (3, 3), activation='relu', padding='same', name='block2_conv2', kernel_regularizer=l2(weight_decay))(x)\n",
    "    x = MaxPooling2D((2, 2), strides=(2, 2), name='block2_pool')(x)\n",
    "\n",
    "    # Block 3\n",
    "    x = Conv2D(64, (3, 3), activation='relu', padding='same', name='block3_conv1', kernel_regularizer=l2(weight_decay))(x)\n",
    "    x = Conv2D(64, (3, 3), activation='relu', padding='same', name='block3_conv2', kernel_regularizer=l2(weight_decay))(x)\n",
    "    x = Conv2D(64, (3, 3), activation='relu', padding='same', name='block3_conv3', kernel_regularizer=l2(weight_decay))(x)\n",
    "    x = MaxPooling2D((2, 2), strides=(2, 2), name='block3_pool')(x)\n",
    "    \n",
    "    \n",
    "    #FLATTEN X (means convert it to a vector) + FULLYCONNECTED\n",
    "    x = Conv2D(128, (5,5), activation='relu', padding='same', name='block5_conv1', kernel_regularizer=l2(weight_decay))(x)\n",
    "    x = layers.Dropout(0.5)(x)\n",
    "    x = Conv2D(128, (1, 1), activation='relu', padding='same', name='block5_conv2', kernel_regularizer=l2(weight_decay))(x)\n",
    "    x = layers.Dropout(0.5)(x)\n",
    "    x = Flatten()(x)     \n",
    "    x = Dense(1, activation='sigmoid', name='fcout', kernel_regularizer=l2(weight_decay))(x)\n",
    "    \n",
    "    model = Model(X_input, x)\n",
    "    return model"
   ]
  },
  {
   "cell_type": "code",
   "execution_count": 74,
   "metadata": {
    "collapsed": false
   },
   "outputs": [],
   "source": [
    "CatDog = CatDogModel(X_train.shape[1:])\n",
    "#CatDog.load_weights('CatDog_weights.h5')\n",
    "CatDog.compile('adam', 'binary_crossentropy', metrics=['accuracy'])"
   ]
  },
  {
   "cell_type": "code",
   "execution_count": 75,
   "metadata": {
    "collapsed": false
   },
   "outputs": [
    {
     "name": "stdout",
     "output_type": "stream",
     "text": [
      "_________________________________________________________________\n",
      "Layer (type)                 Output Shape              Param #   \n",
      "=================================================================\n",
      "input_13 (InputLayer)        (None, 128, 128, 3)       0         \n",
      "_________________________________________________________________\n",
      "block1_conv1 (Conv2D)        (None, 128, 128, 16)      448       \n",
      "_________________________________________________________________\n",
      "block1_conv2 (Conv2D)        (None, 128, 128, 16)      2320      \n",
      "_________________________________________________________________\n",
      "block1_pool (MaxPooling2D)   (None, 64, 64, 16)        0         \n",
      "_________________________________________________________________\n",
      "block2_conv1 (Conv2D)        (None, 64, 64, 32)        4640      \n",
      "_________________________________________________________________\n",
      "block2_conv2 (Conv2D)        (None, 64, 64, 32)        9248      \n",
      "_________________________________________________________________\n",
      "block2_pool (MaxPooling2D)   (None, 32, 32, 32)        0         \n",
      "_________________________________________________________________\n",
      "block3_conv1 (Conv2D)        (None, 32, 32, 64)        18496     \n",
      "_________________________________________________________________\n",
      "block3_conv2 (Conv2D)        (None, 32, 32, 64)        36928     \n",
      "_________________________________________________________________\n",
      "block3_conv3 (Conv2D)        (None, 32, 32, 64)        36928     \n",
      "_________________________________________________________________\n",
      "block3_pool (MaxPooling2D)   (None, 16, 16, 64)        0         \n",
      "_________________________________________________________________\n",
      "block5_conv1 (Conv2D)        (None, 16, 16, 128)       204928    \n",
      "_________________________________________________________________\n",
      "dropout_25 (Dropout)         (None, 16, 16, 128)       0         \n",
      "_________________________________________________________________\n",
      "block5_conv2 (Conv2D)        (None, 16, 16, 128)       16512     \n",
      "_________________________________________________________________\n",
      "dropout_26 (Dropout)         (None, 16, 16, 128)       0         \n",
      "_________________________________________________________________\n",
      "flatten_13 (Flatten)         (None, 32768)             0         \n",
      "_________________________________________________________________\n",
      "fcout (Dense)                (None, 1)                 32769     \n",
      "=================================================================\n",
      "Total params: 363,217\n",
      "Trainable params: 363,217\n",
      "Non-trainable params: 0\n",
      "_________________________________________________________________\n"
     ]
    }
   ],
   "source": [
    "CatDog.summary()"
   ]
  },
  {
   "cell_type": "code",
   "execution_count": 77,
   "metadata": {
    "collapsed": false
   },
   "outputs": [
    {
     "name": "stdout",
     "output_type": "stream",
     "text": [
      "Epoch 1/10\n",
      "24000/24000 [==============================] - 2251s 94ms/step - loss: 0.9181 - acc: 0.6041\n",
      "Epoch 2/10\n",
      "24000/24000 [==============================] - 1625s 68ms/step - loss: 0.6783 - acc: 0.7252\n",
      "Epoch 3/10\n",
      "24000/24000 [==============================] - 1755s 73ms/step - loss: 0.5495 - acc: 0.7915\n",
      "Epoch 4/10\n",
      "24000/24000 [==============================] - 1610s 67ms/step - loss: 0.4669 - acc: 0.8337\n",
      "Epoch 5/10\n",
      "24000/24000 [==============================] - 1610s 67ms/step - loss: 0.4214 - acc: 0.8577\n",
      "Epoch 6/10\n",
      "24000/24000 [==============================] - 1612s 67ms/step - loss: 0.3850 - acc: 0.8751\n",
      "Epoch 7/10\n",
      "24000/24000 [==============================] - 1604s 67ms/step - loss: 0.3601 - acc: 0.8895\n",
      "Epoch 8/10\n",
      "24000/24000 [==============================] - 1605s 67ms/step - loss: 0.3457 - acc: 0.8962\n",
      "Epoch 9/10\n",
      "24000/24000 [==============================] - 1604s 67ms/step - loss: 0.3334 - acc: 0.9045\n",
      "Epoch 10/10\n",
      "24000/24000 [==============================] - 1606s 67ms/step - loss: 0.3253 - acc: 0.9087\n"
     ]
    },
    {
     "data": {
      "text/plain": [
       "<keras.callbacks.History at 0x1615d7f50>"
      ]
     },
     "execution_count": 77,
     "metadata": {},
     "output_type": "execute_result"
    }
   ],
   "source": [
    "CatDog.fit(X_train, y_train, epochs=10, verbose = 1, batch_size=32)"
   ]
  },
  {
   "cell_type": "code",
   "execution_count": 78,
   "metadata": {
    "collapsed": false
   },
   "outputs": [
    {
     "name": "stdout",
     "output_type": "stream",
     "text": [
      "1000/1000 [==============================] - 25s 25ms/step\n",
      "()\n",
      "Loss = 0.366105397701\n",
      "Test Accuracy = 0.881\n"
     ]
    }
   ],
   "source": [
    "preds = CatDog.evaluate(x = X_test, y = y_test)\n",
    "print()\n",
    "print (\"Loss = \" + str(preds[0]))\n",
    "print (\"Test Accuracy = \" + str(preds[1]))"
   ]
  },
  {
   "cell_type": "code",
   "execution_count": 79,
   "metadata": {
    "collapsed": true
   },
   "outputs": [],
   "source": [
    "CatDog.save_weights('CatDog_weights.h5')\n",
    "#0 epochs"
   ]
  },
  {
   "cell_type": "code",
   "execution_count": 80,
   "metadata": {
    "collapsed": false
   },
   "outputs": [
    {
     "name": "stdout",
     "output_type": "stream",
     "text": [
      "1000/1000 [==============================] - 23s 23ms/step\n",
      "()\n",
      "Loss = 0.387106142282\n",
      "Test Accuracy = 0.878\n"
     ]
    }
   ],
   "source": [
    "import pandas as pd\n",
    "raw = pd.read_csv('TestAnswers.csv')\n",
    "outputs = raw['label']\n",
    "outputs = outputs.values.reshape(1000,1)\n",
    "\n",
    "raw = []\n",
    "for i in range(1,1001):\n",
    "\n",
    "    img = cv.imread('testphotos/' + str(i) + '.jpg')\n",
    "    img = cv.resize(img, (height, width))\n",
    "    image_data = cv.normalize(img, img, 0, 255, cv.NORM_MINMAX)\n",
    "    raw.append(img)\n",
    "#make each list an array\n",
    "inputs = np.asarray(raw)\n",
    "\n",
    "#Test data separate\n",
    "preds = CatDog.evaluate(x = inputs, y = outputs)\n",
    "print()\n",
    "print (\"Loss = \" + str(preds[0]))\n",
    "print (\"Test Accuracy = \" + str(preds[1]))\n",
    "#0.904"
   ]
  },
  {
   "cell_type": "code",
   "execution_count": null,
   "metadata": {
    "collapsed": true
   },
   "outputs": [],
   "source": []
  },
  {
   "cell_type": "code",
   "execution_count": null,
   "metadata": {
    "collapsed": true
   },
   "outputs": [],
   "source": []
  }
 ],
 "metadata": {
  "anaconda-cloud": {},
  "kernelspec": {
   "display_name": "Python [default]",
   "language": "python",
   "name": "python2"
  },
  "language_info": {
   "codemirror_mode": {
    "name": "ipython",
    "version": 2
   },
   "file_extension": ".py",
   "mimetype": "text/x-python",
   "name": "python",
   "nbconvert_exporter": "python",
   "pygments_lexer": "ipython2",
   "version": "2.7.12"
  }
 },
 "nbformat": 4,
 "nbformat_minor": 1
}
